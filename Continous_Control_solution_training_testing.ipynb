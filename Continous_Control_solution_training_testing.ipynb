{
 "cells": [
  {
   "cell_type": "markdown",
   "metadata": {},
   "source": [
    "<hr>"
   ]
  },
  {
   "cell_type": "markdown",
   "metadata": {},
   "source": [
    "<center><font size=\"6\">\n",
    "<a href=\"https://www.udacity.com/course/deep-reinforcement-learning-nanodegree--nd893/\">Udacity Deep Reinforcement Learning Nanodegree Program</a></font></center>\n",
    "<br>\n",
    "<p></p>\n",
    "<center><font size=\"6\">Project: Continuous Control</font></center>\n",
    "<p></p>\n",
    "<br>\n",
    "<center><font size=\"3\">\n",
    "<a href=\"https://gh.linkedin.com/in/christian-motschenbacher-7a660b123/\">Christian Motschenbacher</a></font></center>\n",
    "<br>"
   ]
  },
  {
   "cell_type": "markdown",
   "metadata": {},
   "source": [
    "<div class=\"alert alert-block alert-info\" style=\"margin-top: 20px\">\n",
    "<a href=\"https://www.udacity.com/course/deep-reinforcement-learning-nanodegree--nd893\"><img src = \"./media/UdacityDRL01.png\" width = 950, align = \"center\"></a>\n",
    "</div>"
   ]
  },
  {
   "cell_type": "markdown",
   "metadata": {},
   "source": [
    "<hr>"
   ]
  },
  {
   "cell_type": "markdown",
   "metadata": {},
   "source": [
    "# Table of Contents\n",
    "\n",
    "<div class=\"alert alert-block alert-info\" style=\"margin-top: 20px\">\n",
    "<li><a href=\"#ref0\">Author, Project and Environment description </a></li>\n",
    "<li><a href=\"#ref1\">Libraries </a></li>\n",
    "<li><a href=\"#ref2\">Start the Environment </a></li>\n",
    "<li><a href=\"#ref3\">Examine the State and Action Spaces </a></li>\n",
    "<li><a href=\"#ref4\">Create intelligent Agents </a></li>\n",
    "<li><a href=\"#ref5\">Watching/testing an untrained agent and plot the reward scores </a></li>\n",
    "<li><a href=\"#ref6\">Training the Agent with DDPG </a></li>\n",
    "<li><a href=\"#ref7\">Plotting the training reward scores </a></li>\n",
    "<li><a href=\"#ref8\">Watching/testing an trained agent and plot the reward scores </a></li>\n",
    "<li><a href=\"#ref9\">Close Environment </a></li>\n",
    "</div>"
   ]
  },
  {
   "cell_type": "markdown",
   "metadata": {},
   "source": [
    "<hr>"
   ]
  },
  {
   "cell_type": "markdown",
   "metadata": {},
   "source": [
    "# Author, Project and Environment description\n",
    "## Author  \n",
    "  \n",
    "**Name: [Christian Motschenbacher](https://gh.linkedin.com/in/christian-motschenbacher-7a660b123)**  \n",
    "  \n",
    "**Date: 02/2019**  \n",
    "  \n",
    "**Project: Udacity Deep Reinforcement Learning Nanodegree Program: Project 2: Continuous Control**  \n",
    "**This file contains the training and testing code for this project.**\n",
    "\n",
    "\n",
    "## Project and Environment description\n",
    "\n",
    "<div style=\"text-align: justify\">  \n",
    "The task of this project was to train 20 agents, who moves a double-jointed arm to target location and keeps the agent's hand in the goal location. The following video is showing how a trained agent is performing this task well.\n",
    "</div>\n",
    "\n",
    "![](./media/UdacityDRL02.gif)\n",
    "<br>\n",
    "<div style=\"text-align: justify\">  \n",
    "A reward of +0.1 is provided for each step that the agent's hand is in the goal location. Thus, the goal of the agent is to maintain its position at the target location for as many time steps as possible.\n",
    "</div>\n",
    "<br>\n",
    "<div style=\"text-align: justify\">  \n",
    "The observation space consists of 33 variables corresponding to position, rotation, velocity, and angular velocities of the arm. Each action is a vector with four numbers, corresponding to torque applicable to two joints. Every entry in the action vector should be a number between -1 and 1.\n",
    "</div>\n",
    "<br>\n",
    "<div style=\"text-align: justify\">  \n",
    "The task is episodic and in order to solve the environment, the agent must achieve an average score of +30 over 100 consecutive episodes.\n",
    "</div>\n",
    "<br>\n",
    "<div style=\"text-align: justify\">  \n",
    "For the soution of this task it has been used the Unity ML-Agents Reacher Environment from Unity-Technologies, the Python programming language as well the libraries NumPy, PyTorch and others.</p>\n",
    "</div>"
   ]
  },
  {
   "cell_type": "markdown",
   "metadata": {},
   "source": [
    "<hr>"
   ]
  },
  {
   "cell_type": "markdown",
   "metadata": {},
   "source": [
    "# Libraries\n",
    "Importing the necessary libraries for this project."
   ]
  },
  {
   "cell_type": "code",
   "execution_count": 1,
   "metadata": {
    "ExecuteTime": {
     "end_time": "2019-03-02T01:17:00.227128Z",
     "start_time": "2019-03-02T01:16:57.543708Z"
    }
   },
   "outputs": [],
   "source": [
    "from unityagents import UnityEnvironment\n",
    "\n",
    "import numpy as np\n",
    "from time import sleep, time\n",
    "from pandas import Series\n",
    "\n",
    "import torch\n",
    "from collections import deque\n",
    "import matplotlib.pyplot as plt\n",
    "from IPython.display import HTML\n",
    "\n",
    "import warnings\n",
    "warnings.filterwarnings('ignore')\n",
    "\n",
    "%matplotlib inline\n",
    "%reload_ext autoreload\n",
    "%autoreload 2"
   ]
  },
  {
   "cell_type": "markdown",
   "metadata": {},
   "source": [
    "<hr>"
   ]
  },
  {
   "cell_type": "markdown",
   "metadata": {},
   "source": [
    "# Start the Environment\n",
    "<div style=\"text-align: justify\">  \n",
    "The next code section opens and starts the Unity Environment. In addition, the environment return its properties such as the amount of possible actions, the state spaces and others.\n",
    "</div>"
   ]
  },
  {
   "cell_type": "code",
   "execution_count": 2,
   "metadata": {
    "ExecuteTime": {
     "end_time": "2019-03-02T01:17:01.316601Z",
     "start_time": "2019-03-02T01:17:00.227128Z"
    }
   },
   "outputs": [
    {
     "name": "stderr",
     "output_type": "stream",
     "text": [
      "INFO:unityagents:\n",
      "'Academy' started successfully!\n",
      "Unity Academy name: Academy\n",
      "        Number of Brains: 1\n",
      "        Number of External Brains : 1\n",
      "        Lesson number : 0\n",
      "        Reset Parameters :\n",
      "\t\tgoal_speed -> 1.0\n",
      "\t\tgoal_size -> 5.0\n",
      "Unity brain name: ReacherBrain\n",
      "        Number of Visual Observations (per agent): 0\n",
      "        Vector Observation space type: continuous\n",
      "        Vector Observation space size (per agent): 33\n",
      "        Number of stacked Vector Observation: 1\n",
      "        Vector Action space type: continuous\n",
      "        Vector Action space size (per agent): 4\n",
      "        Vector Action descriptions: , , , \n"
     ]
    }
   ],
   "source": [
    "# The project has been developed in Windows and therefore, the Windows Unity-Technology environment has been used.\n",
    "# The training can be performed with and without graphics by setting the parameter \"no_graphics=False\" \n",
    "# respectiveley \"no_graphics=True\".\n",
    "\n",
    "# Windows\n",
    "env = UnityEnvironment(file_name='./env/Reacher_Windows_x86_64_20_Agents/Reacher.exe',\n",
    "                       no_graphics=True)\n",
    "# Linux\n",
    "#env = UnityEnvironment(file_name='./env/Reacher_Linux_20_Agents/Reacher.x86_64',\n",
    "#                       no_graphics=True)"
   ]
  },
  {
   "cell_type": "markdown",
   "metadata": {},
   "source": [
    "<div style=\"text-align: justify\">  \n",
    "Environments contain <b>brains</b> which are responsible for deciding the actions of their associated agents. Here we check for the first brain available, and set it as the default brain we will be controlling from Python.\n",
    "</div>"
   ]
  },
  {
   "cell_type": "code",
   "execution_count": 3,
   "metadata": {
    "ExecuteTime": {
     "end_time": "2019-03-02T01:17:01.787312Z",
     "start_time": "2019-03-02T01:17:01.317569Z"
    }
   },
   "outputs": [
    {
     "name": "stdout",
     "output_type": "stream",
     "text": [
      "ReacherBrain\n",
      "Unity brain name: ReacherBrain\n",
      "        Number of Visual Observations (per agent): 0\n",
      "        Vector Observation space type: continuous\n",
      "        Vector Observation space size (per agent): 33\n",
      "        Number of stacked Vector Observation: 1\n",
      "        Vector Action space type: continuous\n",
      "        Vector Action space size (per agent): 4\n",
      "        Vector Action descriptions: , , , \n"
     ]
    }
   ],
   "source": [
    "# get the default brain\n",
    "brain_name = env.brain_names[0]\n",
    "brain = env.brains[brain_name]\n",
    "print(brain_name) # print brain name\n",
    "print(brain)      # print the properties of the brain"
   ]
  },
  {
   "cell_type": "markdown",
   "metadata": {},
   "source": [
    "<hr>"
   ]
  },
  {
   "cell_type": "markdown",
   "metadata": {},
   "source": [
    "# Examine the State and Action Spaces\n",
    "<br>\n",
    "<div style=\"text-align: justify\">  \n",
    "In this environment, a double-jointed arm can move to target locations. A reward of +0.1 is provided for each step that the agent's hand is in the goal location. Thus, the goal of the agent is to maintain its position at the target location for as many time steps as possible.  \n",
    "</div>\n",
    "<br>  \n",
    "<div style=\"text-align: justify\">  \n",
    "The observation space consists of 33 variables corresponding to position, rotation, velocity, and angular velocities of the arm.  Each action is a vector with four numbers, corresponding to torque applicable to two joints. Every entry in the action vector must be a number between -1 and 1.  \n",
    "</div>\n",
    "<br>\n",
    "<div style=\"text-align: justify\">  \n",
    "The code cell below print some information about the environment.  \n",
    "</div>"
   ]
  },
  {
   "cell_type": "code",
   "execution_count": 4,
   "metadata": {
    "ExecuteTime": {
     "end_time": "2019-03-02T01:17:02.340347Z",
     "start_time": "2019-03-02T01:17:01.790304Z"
    }
   },
   "outputs": [
    {
     "name": "stdout",
     "output_type": "stream",
     "text": [
      "Number of agents: 20\n",
      "Size of each action: 4\n",
      "There are 20 agents. Each observes a state with length: 33\n",
      "The state for the first agent looks like: [ 0.00000000e+00 -4.00000000e+00  0.00000000e+00  1.00000000e+00\n",
      " -0.00000000e+00 -0.00000000e+00 -4.37113883e-08  0.00000000e+00\n",
      "  0.00000000e+00  0.00000000e+00  0.00000000e+00  0.00000000e+00\n",
      "  0.00000000e+00  0.00000000e+00 -1.00000000e+01  0.00000000e+00\n",
      "  1.00000000e+00 -0.00000000e+00 -0.00000000e+00 -4.37113883e-08\n",
      "  0.00000000e+00  0.00000000e+00  0.00000000e+00  0.00000000e+00\n",
      "  0.00000000e+00  0.00000000e+00  5.75471878e+00 -1.00000000e+00\n",
      "  5.55726624e+00  0.00000000e+00  1.00000000e+00  0.00000000e+00\n",
      " -1.68164849e-01]\n"
     ]
    }
   ],
   "source": [
    "# reset the environment\n",
    "env_info = env.reset(train_mode=True)[brain_name]\n",
    "\n",
    "# number of agents\n",
    "num_agents = len(env_info.agents)\n",
    "print('Number of agents:', num_agents)\n",
    "\n",
    "# size of each action\n",
    "action_size = brain.vector_action_space_size\n",
    "print('Size of each action:', action_size)\n",
    "\n",
    "# examine the state space \n",
    "states = env_info.vector_observations\n",
    "state_size = states.shape[1]\n",
    "print('There are {} agents. Each observes a state with length: {}'.format(states.shape[0], state_size))\n",
    "print('The state for the first agent looks like:', states[0])"
   ]
  },
  {
   "cell_type": "markdown",
   "metadata": {},
   "source": [
    "<hr>"
   ]
  },
  {
   "cell_type": "markdown",
   "metadata": {},
   "source": [
    "# Create an intelligent Agent for the following testing, training and testing code section."
   ]
  },
  {
   "cell_type": "code",
   "execution_count": 5,
   "metadata": {
    "ExecuteTime": {
     "end_time": "2019-03-02T01:17:05.286685Z",
     "start_time": "2019-03-02T01:17:02.344339Z"
    }
   },
   "outputs": [],
   "source": [
    "from ddpg_agent import Agent   # import the necessary library with the class agent\n",
    "agent = Agent(state_size=state_size, action_size=action_size, random_seed=3) # create and instance with initial parameters of the agent"
   ]
  },
  {
   "cell_type": "markdown",
   "metadata": {},
   "source": [
    "<hr>"
   ]
  },
  {
   "cell_type": "markdown",
   "metadata": {},
   "source": [
    "# Watch/testing an untrained agent and plot the reward score\n"
   ]
  },
  {
   "cell_type": "markdown",
   "metadata": {},
   "source": [
    "**Example Video of untrained agent.**  \n",
    "After the following code cell is executed the vido can be started via the play button."
   ]
  },
  {
   "cell_type": "code",
   "execution_count": 6,
   "metadata": {
    "ExecuteTime": {
     "end_time": "2019-03-02T01:17:05.730562Z",
     "start_time": "2019-03-02T01:17:05.287677Z"
    },
    "code_folding": []
   },
   "outputs": [
    {
     "data": {
      "text/html": [
       "<div align=\"middle\"><video width=\"80%\" height=\"\" controls><source src=\"media/01_p2_r_untrained.mp4\" type=\"video/mp4\"></video></div>"
      ],
      "text/plain": [
       "<IPython.core.display.HTML object>"
      ]
     },
     "execution_count": 6,
     "metadata": {},
     "output_type": "execute_result"
    }
   ],
   "source": [
    "HTML(\"\"\"<div align=\"middle\"><video width=\"80%\" height=\"\" controls><source src=\"media/01_p2_r_untrained.mp4\" type=\"video/mp4\"></video></div>\"\"\")"
   ]
  },
  {
   "cell_type": "markdown",
   "metadata": {},
   "source": [
    "<div style=\"text-align: justify\">\n",
    "Once the following testing of an untrained agent code cell is executed, a window will pop up you will watch the agent's untrained performance controlled by random actions at each time step. \n",
    "</div>"
   ]
  },
  {
   "cell_type": "code",
   "execution_count": 7,
   "metadata": {
    "ExecuteTime": {
     "end_time": "2019-03-02T01:29:31.056054Z",
     "start_time": "2019-03-02T01:17:05.731561Z"
    }
   },
   "outputs": [
    {
     "name": "stdout",
     "output_type": "stream",
     "text": [
      "Score of 20 trained agents: [0.1374999969266355, 0.17949999598786234, 0.21349999522790314, 0.16449999632313847, 0.08499999810010195]\n"
     ]
    },
    {
     "data": {
      "image/png": "[encoded data removed]",
      "text/plain": [
       "<Figure size 1080x360 with 1 Axes>"
      ]
     },
     "metadata": {
      "needs_background": "light"
     },
     "output_type": "display_data"
    }
   ],
   "source": [
    "episode_score = []                                        # list containing scores from each episode\n",
    "\n",
    "for j in range(5):\n",
    "    env_info = env.reset(train_mode=False)[brain_name]     # reset the environment    \n",
    "    states = env_info.vector_observations                  # get the current state (for each agent)\n",
    "    scores = np.zeros(num_agents)                          # initialize the score (for each agent)\n",
    "    for t in range(1000):\n",
    "         #sleep(0.1)                                       # for debugging and video recording\n",
    "        actions = np.random.randn(num_agents, action_size) # select an action (for each agent)\n",
    "        actions = np.clip(actions, -1, 1)                  # all actions between -1 and 1\n",
    "        env_info = env.step(actions)[brain_name]           # send all actions to tne environment\n",
    "        next_states = env_info.vector_observations         # get next state (for each agent)\n",
    "        rewards = env_info.rewards                         # get reward (for each agent)\n",
    "        dones = env_info.local_done                        # see if episode finished\n",
    "        scores += env_info.rewards                         # update the score (for each agent)\n",
    "        states = next_states                               # roll over states to next time step\n",
    "        if np.any(dones):                                  # exit loop if episode finished\n",
    "            break\n",
    "            \n",
    "    episode_score.append(np.mean(scores))\n",
    "\n",
    "# Plot and print the achived scores during this episode\n",
    "print(\"Score of 20 trained agents: {}\".format(episode_score))\n",
    "\n",
    "fig = plt.figure(figsize=(15,5))\n",
    "ax = fig.add_subplot(111)\n",
    "plt.plot(1+np.arange(len(episode_score)),episode_score)\n",
    "plt.ylabel('Score')\n",
    "plt.xlabel('Episode #')\n",
    "plt.title('Performance of 20 untrained agents')\n",
    "plt.show()"
   ]
  },
  {
   "cell_type": "markdown",
   "metadata": {},
   "source": [
    "<hr>"
   ]
  },
  {
   "cell_type": "markdown",
   "metadata": {},
   "source": [
    "# Train the Agent/Model with DDPG"
   ]
  },
  {
   "cell_type": "markdown",
   "metadata": {},
   "source": [
    "**Example Video of an agent while training.**  \n",
    "After the following code cell is executed the vido can be started via the play button."
   ]
  },
  {
   "cell_type": "code",
   "execution_count": 8,
   "metadata": {
    "ExecuteTime": {
     "end_time": "2019-03-02T01:29:31.516869Z",
     "start_time": "2019-03-02T01:29:31.058025Z"
    }
   },
   "outputs": [
    {
     "data": {
      "text/html": [
       "<div align=\"middle\"><video width=\"80%\" height=\"\" controls><source src=\"media/02_p2_r_training.mp4\" type=\"video/mp4\"></video></div>"
      ],
      "text/plain": [
       "<IPython.core.display.HTML object>"
      ]
     },
     "execution_count": 8,
     "metadata": {},
     "output_type": "execute_result"
    }
   ],
   "source": [
    "HTML(\"\"\"<div align=\"middle\"><video width=\"80%\" height=\"\" controls><source src=\"media/02_p2_r_training.mp4\" type=\"video/mp4\"></video></div>\"\"\")"
   ]
  },
  {
   "cell_type": "markdown",
   "metadata": {},
   "source": [
    "<div style=\"text-align: justify\">\n",
    "The training code cell below train the agent from scratch and output the agent's performance continuously. The used parameters have been found by systematically empirical analysis. Once the agent exceeds the score +30, which is defined that the environment and task is solved the program save the model weights of the trained agent in the folder \"./model_weights/\" and returns the score for the subsequent plot.\n",
    "</div>"
   ]
  },
  {
   "cell_type": "code",
   "execution_count": 9,
   "metadata": {
    "ExecuteTime": {
     "end_time": "2019-03-02T03:19:13.578006Z",
     "start_time": "2019-03-02T01:29:31.517868Z"
    },
    "scrolled": false
   },
   "outputs": [
    {
     "name": "stdout",
     "output_type": "stream",
     "text": [
      "\n",
      "Ep.:   1   Ep.T.A.Score:  1.03\tEp.Mean.S.:  1.03\tEp.Min.S.:  0.19\tEp.Max.S.:  2.68\tEp.Du.Sec.: 24.06\n",
      "Ep.:   2   Ep.T.A.Score:  0.83\tEp.Mean.S.:  0.63\tEp.Min.S.:  0.02\tEp.Max.S.:  1.83\tEp.Du.Sec.: 23.41\n",
      "Ep.:   3   Ep.T.A.Score:  0.81\tEp.Mean.S.:  0.77\tEp.Min.S.:  0.18\tEp.Max.S.:  1.95\tEp.Du.Sec.: 23.54\n",
      "Ep.:   4   Ep.T.A.Score:  0.78\tEp.Mean.S.:  0.67\tEp.Min.S.:  0.00\tEp.Max.S.:  1.76\tEp.Du.Sec.: 23.55\n",
      "Ep.:   5   Ep.T.A.Score:  0.77\tEp.Mean.S.:  0.75\tEp.Min.S.:  0.17\tEp.Max.S.:  1.68\tEp.Du.Sec.: 23.75\n",
      "Ep.:   6   Ep.T.A.Score:  0.79\tEp.Mean.S.:  0.87\tEp.Min.S.:  0.00\tEp.Max.S.:  1.83\tEp.Du.Sec.: 24.74\n",
      "Ep.:   7   Ep.T.A.Score:  0.76\tEp.Mean.S.:  0.57\tEp.Min.S.:  0.01\tEp.Max.S.:  1.89\tEp.Du.Sec.: 24.92\n",
      "Ep.:   8   Ep.T.A.Score:  0.81\tEp.Mean.S.:  1.16\tEp.Min.S.:  0.28\tEp.Max.S.:  2.70\tEp.Du.Sec.: 24.84\n",
      "Ep.:   9   Ep.T.A.Score:  0.88\tEp.Mean.S.:  1.47\tEp.Min.S.:  0.34\tEp.Max.S.:  3.93\tEp.Du.Sec.: 24.35\n",
      "Ep.:  10   Ep.T.A.Score:  1.08\tEp.Mean.S.:  2.87\tEp.Min.S.:  0.12\tEp.Max.S.:  6.04\tEp.Du.Sec.: 24.60\n",
      "Ep.:  11   Ep.T.A.Score:  1.25\tEp.Mean.S.:  3.00\tEp.Min.S.:  0.95\tEp.Max.S.:  6.92\tEp.Du.Sec.: 24.89\n",
      "Ep.:  12   Ep.T.A.Score:  1.64\tEp.Mean.S.:  5.92\tEp.Min.S.:  1.36\tEp.Max.S.: 10.21\tEp.Du.Sec.: 25.25\n",
      "Ep.:  13   Ep.T.A.Score:  2.36\tEp.Mean.S.: 10.92\tEp.Min.S.:  2.10\tEp.Max.S.: 22.37\tEp.Du.Sec.: 25.33\n",
      "Ep.:  14   Ep.T.A.Score:  3.52\tEp.Mean.S.: 18.63\tEp.Min.S.: 10.83\tEp.Max.S.: 32.89\tEp.Du.Sec.: 25.56\n",
      "Ep.:  15   Ep.T.A.Score:  4.88\tEp.Mean.S.: 23.90\tEp.Min.S.: 13.93\tEp.Max.S.: 35.91\tEp.Du.Sec.: 26.05\n",
      "Ep.:  16   Ep.T.A.Score:  6.69\tEp.Mean.S.: 33.92\tEp.Min.S.: 22.90\tEp.Max.S.: 39.22\tEp.Du.Sec.: 26.05\n",
      "Ep.:  17   Ep.T.A.Score:  8.37\tEp.Mean.S.: 35.27\tEp.Min.S.: 31.23\tEp.Max.S.: 39.52\tEp.Du.Sec.: 26.42\n",
      "Ep.:  18   Ep.T.A.Score:  9.98\tEp.Mean.S.: 37.22\tEp.Min.S.: 31.24\tEp.Max.S.: 39.47\tEp.Du.Sec.: 26.57\n",
      "Ep.:  19   Ep.T.A.Score: 11.37\tEp.Mean.S.: 36.51\tEp.Min.S.: 29.49\tEp.Max.S.: 39.27\tEp.Du.Sec.: 26.83\n",
      "Ep.:  20   Ep.T.A.Score: 12.71\tEp.Mean.S.: 38.22\tEp.Min.S.: 34.50\tEp.Max.S.: 39.50\tEp.Du.Sec.: 27.18\n",
      "Ep.:  21   Ep.T.A.Score: 13.92\tEp.Mean.S.: 37.94\tEp.Min.S.: 32.71\tEp.Max.S.: 39.47\tEp.Du.Sec.: 27.37\n",
      "Ep.:  22   Ep.T.A.Score: 15.01\tEp.Mean.S.: 37.90\tEp.Min.S.: 34.67\tEp.Max.S.: 39.45\tEp.Du.Sec.: 27.55\n",
      "Ep.:  23   Ep.T.A.Score: 16.01\tEp.Mean.S.: 38.19\tEp.Min.S.: 30.81\tEp.Max.S.: 39.43\tEp.Du.Sec.: 27.78\n",
      "Ep.:  24   Ep.T.A.Score: 16.96\tEp.Mean.S.: 38.78\tEp.Min.S.: 36.96\tEp.Max.S.: 39.48\tEp.Du.Sec.: 27.87\n",
      "Ep.:  25   Ep.T.A.Score: 17.83\tEp.Mean.S.: 38.71\tEp.Min.S.: 37.13\tEp.Max.S.: 39.40\tEp.Du.Sec.: 28.27\n",
      "Ep.:  26   Ep.T.A.Score: 18.62\tEp.Mean.S.: 38.36\tEp.Min.S.: 28.68\tEp.Max.S.: 39.49\tEp.Du.Sec.: 28.35\n",
      "Ep.:  27   Ep.T.A.Score: 19.35\tEp.Mean.S.: 38.19\tEp.Min.S.: 34.31\tEp.Max.S.: 39.53\tEp.Du.Sec.: 28.80\n",
      "Ep.:  28   Ep.T.A.Score: 20.03\tEp.Mean.S.: 38.47\tEp.Min.S.: 33.82\tEp.Max.S.: 39.51\tEp.Du.Sec.: 28.94\n",
      "Ep.:  29   Ep.T.A.Score: 20.63\tEp.Mean.S.: 37.52\tEp.Min.S.: 32.01\tEp.Max.S.: 39.48\tEp.Du.Sec.: 29.16\n",
      "Ep.:  30   Ep.T.A.Score: 21.22\tEp.Mean.S.: 38.35\tEp.Min.S.: 32.31\tEp.Max.S.: 39.45\tEp.Du.Sec.: 29.47\n",
      "Ep.:  31   Ep.T.A.Score: 21.79\tEp.Mean.S.: 38.74\tEp.Min.S.: 35.60\tEp.Max.S.: 39.61\tEp.Du.Sec.: 29.74\n",
      "Ep.:  32   Ep.T.A.Score: 22.31\tEp.Mean.S.: 38.61\tEp.Min.S.: 35.77\tEp.Max.S.: 39.58\tEp.Du.Sec.: 29.84\n",
      "Ep.:  33   Ep.T.A.Score: 22.82\tEp.Mean.S.: 38.84\tEp.Min.S.: 36.46\tEp.Max.S.: 39.63\tEp.Du.Sec.: 30.10\n",
      "Ep.:  34   Ep.T.A.Score: 23.27\tEp.Mean.S.: 38.35\tEp.Min.S.: 32.27\tEp.Max.S.: 39.56\tEp.Du.Sec.: 30.23\n",
      "Ep.:  35   Ep.T.A.Score: 23.70\tEp.Mean.S.: 38.13\tEp.Min.S.: 32.85\tEp.Max.S.: 39.53\tEp.Du.Sec.: 33.57\n",
      "Ep.:  36   Ep.T.A.Score: 24.08\tEp.Mean.S.: 37.49\tEp.Min.S.: 30.83\tEp.Max.S.: 39.63\tEp.Du.Sec.: 30.96\n",
      "Ep.:  37   Ep.T.A.Score: 24.46\tEp.Mean.S.: 38.15\tEp.Min.S.: 33.97\tEp.Max.S.: 39.53\tEp.Du.Sec.: 31.37\n",
      "Ep.:  38   Ep.T.A.Score: 24.79\tEp.Mean.S.: 37.16\tEp.Min.S.: 30.14\tEp.Max.S.: 39.50\tEp.Du.Sec.: 31.65\n",
      "Ep.:  39   Ep.T.A.Score: 25.10\tEp.Mean.S.: 36.88\tEp.Min.S.: 31.38\tEp.Max.S.: 39.57\tEp.Du.Sec.: 31.92\n",
      "Ep.:  40   Ep.T.A.Score: 25.45\tEp.Mean.S.: 38.82\tEp.Min.S.: 31.89\tEp.Max.S.: 39.65\tEp.Du.Sec.: 32.07\n",
      "Ep.:  41   Ep.T.A.Score: 25.77\tEp.Mean.S.: 38.57\tEp.Min.S.: 36.68\tEp.Max.S.: 39.56\tEp.Du.Sec.: 32.34\n",
      "Ep.:  42   Ep.T.A.Score: 26.07\tEp.Mean.S.: 38.39\tEp.Min.S.: 31.57\tEp.Max.S.: 39.67\tEp.Du.Sec.: 32.57\n",
      "Ep.:  43   Ep.T.A.Score: 26.36\tEp.Mean.S.: 38.54\tEp.Min.S.: 35.42\tEp.Max.S.: 39.63\tEp.Du.Sec.: 32.77\n",
      "Ep.:  44   Ep.T.A.Score: 26.63\tEp.Mean.S.: 38.41\tEp.Min.S.: 33.55\tEp.Max.S.: 39.64\tEp.Du.Sec.: 32.88\n",
      "Ep.:  45   Ep.T.A.Score: 26.89\tEp.Mean.S.: 38.11\tEp.Min.S.: 30.07\tEp.Max.S.: 39.64\tEp.Du.Sec.: 33.49\n",
      "Ep.:  46   Ep.T.A.Score: 27.16\tEp.Mean.S.: 39.46\tEp.Min.S.: 38.99\tEp.Max.S.: 39.65\tEp.Du.Sec.: 33.37\n",
      "Ep.:  47   Ep.T.A.Score: 27.40\tEp.Mean.S.: 38.62\tEp.Min.S.: 34.93\tEp.Max.S.: 39.65\tEp.Du.Sec.: 33.75\n",
      "Ep.:  48   Ep.T.A.Score: 27.65\tEp.Mean.S.: 39.43\tEp.Min.S.: 38.53\tEp.Max.S.: 39.68\tEp.Du.Sec.: 34.07\n",
      "Ep.:  49   Ep.T.A.Score: 27.90\tEp.Mean.S.: 39.43\tEp.Min.S.: 38.97\tEp.Max.S.: 39.65\tEp.Du.Sec.: 34.11\n",
      "Ep.:  50   Ep.T.A.Score: 28.13\tEp.Mean.S.: 39.50\tEp.Min.S.: 39.15\tEp.Max.S.: 39.63\tEp.Du.Sec.: 34.40\n",
      "Ep.:  51   Ep.T.A.Score: 28.35\tEp.Mean.S.: 39.43\tEp.Min.S.: 37.74\tEp.Max.S.: 39.62\tEp.Du.Sec.: 34.53\n",
      "Ep.:  52   Ep.T.A.Score: 28.56\tEp.Mean.S.: 39.40\tEp.Min.S.: 38.17\tEp.Max.S.: 39.61\tEp.Du.Sec.: 34.49\n",
      "Ep.:  53   Ep.T.A.Score: 28.77\tEp.Mean.S.: 39.49\tEp.Min.S.: 39.15\tEp.Max.S.: 39.63\tEp.Du.Sec.: 34.55\n",
      "Ep.:  54   Ep.T.A.Score: 28.96\tEp.Mean.S.: 39.38\tEp.Min.S.: 38.16\tEp.Max.S.: 39.66\tEp.Du.Sec.: 34.47\n",
      "Ep.:  55   Ep.T.A.Score: 29.16\tEp.Mean.S.: 39.45\tEp.Min.S.: 38.72\tEp.Max.S.: 39.64\tEp.Du.Sec.: 34.61\n",
      "Ep.:  56   Ep.T.A.Score: 29.34\tEp.Mean.S.: 39.49\tEp.Min.S.: 38.98\tEp.Max.S.: 39.63\tEp.Du.Sec.: 34.41\n",
      "Ep.:  57   Ep.T.A.Score: 29.52\tEp.Mean.S.: 39.47\tEp.Min.S.: 38.82\tEp.Max.S.: 39.65\tEp.Du.Sec.: 34.49\n",
      "Ep.:  58   Ep.T.A.Score: 29.69\tEp.Mean.S.: 39.46\tEp.Min.S.: 38.62\tEp.Max.S.: 39.63\tEp.Du.Sec.: 34.52\n",
      "Ep.:  59   Ep.T.A.Score: 29.86\tEp.Mean.S.: 39.51\tEp.Min.S.: 39.24\tEp.Max.S.: 39.65\tEp.Du.Sec.: 34.65\n",
      "Ep.:  60   Ep.T.A.Score: 30.02\tEp.Mean.S.: 39.43\tEp.Min.S.: 37.70\tEp.Max.S.: 39.65\tEp.Du.Sec.: 34.57\n",
      "Environment solved in 60 episodes!\tAverage Score: 30.02\n",
      "\n",
      "Ep.:  61   Ep.T.A.Score: 30.17\tEp.Mean.S.: 39.51\tEp.Min.S.: 39.23\tEp.Max.S.: 39.65\tEp.Du.Sec.: 34.55\n",
      "Ep.:  62   Ep.T.A.Score: 30.31\tEp.Mean.S.: 38.64\tEp.Min.S.: 35.34\tEp.Max.S.: 39.65\tEp.Du.Sec.: 35.29\n",
      "Ep.:  63   Ep.T.A.Score: 30.44\tEp.Mean.S.: 38.59\tEp.Min.S.: 26.11\tEp.Max.S.: 39.67\tEp.Du.Sec.: 34.46\n",
      "Ep.:  64   Ep.T.A.Score: 30.56\tEp.Mean.S.: 38.15\tEp.Min.S.: 28.20\tEp.Max.S.: 39.65\tEp.Du.Sec.: 34.36\n",
      "Ep.:  65   Ep.T.A.Score: 30.69\tEp.Mean.S.: 39.07\tEp.Min.S.: 36.22\tEp.Max.S.: 39.63\tEp.Du.Sec.: 34.48\n",
      "Ep.:  66   Ep.T.A.Score: 30.81\tEp.Mean.S.: 38.76\tEp.Min.S.: 26.91\tEp.Max.S.: 39.65\tEp.Du.Sec.: 34.46\n",
      "Ep.:  67   Ep.T.A.Score: 30.91\tEp.Mean.S.: 37.46\tEp.Min.S.: 20.23\tEp.Max.S.: 39.63\tEp.Du.Sec.: 34.57\n",
      "Ep.:  68   Ep.T.A.Score: 31.03\tEp.Mean.S.: 39.09\tEp.Min.S.: 34.67\tEp.Max.S.: 39.67\tEp.Du.Sec.: 34.53\n",
      "Ep.:  69   Ep.T.A.Score: 31.15\tEp.Mean.S.: 39.26\tEp.Min.S.: 36.79\tEp.Max.S.: 39.66\tEp.Du.Sec.: 34.50\n",
      "Ep.:  70   Ep.T.A.Score: 31.27\tEp.Mean.S.: 39.31\tEp.Min.S.: 37.79\tEp.Max.S.: 39.67\tEp.Du.Sec.: 34.52\n",
      "Ep.:  71   Ep.T.A.Score: 31.38\tEp.Mean.S.: 39.37\tEp.Min.S.: 38.53\tEp.Max.S.: 39.65\tEp.Du.Sec.: 34.65\n",
      "Ep.:  72   Ep.T.A.Score: 31.49\tEp.Mean.S.: 39.19\tEp.Min.S.: 37.46\tEp.Max.S.: 39.65\tEp.Du.Sec.: 34.69\n",
      "Ep.:  73   Ep.T.A.Score: 31.60\tEp.Mean.S.: 39.16\tEp.Min.S.: 37.91\tEp.Max.S.: 39.60\tEp.Du.Sec.: 34.52\n",
      "Ep.:  74   Ep.T.A.Score: 31.69\tEp.Mean.S.: 38.93\tEp.Min.S.: 37.36\tEp.Max.S.: 39.67\tEp.Du.Sec.: 34.43\n",
      "Ep.:  75   Ep.T.A.Score: 31.79\tEp.Mean.S.: 38.67\tEp.Min.S.: 36.06\tEp.Max.S.: 39.46\tEp.Du.Sec.: 34.59\n",
      "Ep.:  76   Ep.T.A.Score: 31.88\tEp.Mean.S.: 38.46\tEp.Min.S.: 35.64\tEp.Max.S.: 39.58\tEp.Du.Sec.: 34.47\n",
      "Ep.:  77   Ep.T.A.Score: 31.97\tEp.Mean.S.: 38.78\tEp.Min.S.: 37.14\tEp.Max.S.: 39.45\tEp.Du.Sec.: 34.51\n",
      "Ep.:  78   Ep.T.A.Score: 32.05\tEp.Mean.S.: 38.66\tEp.Min.S.: 36.87\tEp.Max.S.: 39.62\tEp.Du.Sec.: 34.58\n",
      "Ep.:  79   Ep.T.A.Score: 32.13\tEp.Mean.S.: 38.48\tEp.Min.S.: 36.53\tEp.Max.S.: 39.55\tEp.Du.Sec.: 34.61\n",
      "Ep.:  80   Ep.T.A.Score: 32.21\tEp.Mean.S.: 38.19\tEp.Min.S.: 36.17\tEp.Max.S.: 39.59\tEp.Du.Sec.: 34.52\n"
     ]
    },
    {
     "name": "stdout",
     "output_type": "stream",
     "text": [
      "Ep.:  81   Ep.T.A.Score: 32.29\tEp.Mean.S.: 38.70\tEp.Min.S.: 35.26\tEp.Max.S.: 39.58\tEp.Du.Sec.: 34.54\n",
      "Ep.:  82   Ep.T.A.Score: 32.36\tEp.Mean.S.: 38.19\tEp.Min.S.: 34.25\tEp.Max.S.: 39.66\tEp.Du.Sec.: 34.47\n",
      "Ep.:  83   Ep.T.A.Score: 32.43\tEp.Mean.S.: 38.15\tEp.Min.S.: 34.77\tEp.Max.S.: 39.44\tEp.Du.Sec.: 34.60\n",
      "Ep.:  84   Ep.T.A.Score: 32.50\tEp.Mean.S.: 38.20\tEp.Min.S.: 34.34\tEp.Max.S.: 39.60\tEp.Du.Sec.: 34.42\n",
      "Ep.:  85   Ep.T.A.Score: 32.56\tEp.Mean.S.: 38.11\tEp.Min.S.: 35.17\tEp.Max.S.: 39.60\tEp.Du.Sec.: 34.49\n",
      "Ep.:  86   Ep.T.A.Score: 32.64\tEp.Mean.S.: 38.99\tEp.Min.S.: 37.68\tEp.Max.S.: 39.66\tEp.Du.Sec.: 34.46\n",
      "Ep.:  87   Ep.T.A.Score: 32.71\tEp.Mean.S.: 38.43\tEp.Min.S.: 35.71\tEp.Max.S.: 39.67\tEp.Du.Sec.: 35.65\n",
      "Ep.:  88   Ep.T.A.Score: 32.77\tEp.Mean.S.: 38.68\tEp.Min.S.: 36.39\tEp.Max.S.: 39.56\tEp.Du.Sec.: 34.73\n",
      "Ep.:  89   Ep.T.A.Score: 32.84\tEp.Mean.S.: 38.53\tEp.Min.S.: 35.79\tEp.Max.S.: 39.66\tEp.Du.Sec.: 34.75\n",
      "Ep.:  90   Ep.T.A.Score: 32.90\tEp.Mean.S.: 38.36\tEp.Min.S.: 36.49\tEp.Max.S.: 39.65\tEp.Du.Sec.: 34.46\n",
      "Ep.:  91   Ep.T.A.Score: 32.96\tEp.Mean.S.: 38.16\tEp.Min.S.: 36.15\tEp.Max.S.: 39.51\tEp.Du.Sec.: 34.42\n",
      "Ep.:  92   Ep.T.A.Score: 33.00\tEp.Mean.S.: 37.13\tEp.Min.S.: 30.66\tEp.Max.S.: 39.41\tEp.Du.Sec.: 34.73\n",
      "Ep.:  93   Ep.T.A.Score: 33.06\tEp.Mean.S.: 38.14\tEp.Min.S.: 35.56\tEp.Max.S.: 39.57\tEp.Du.Sec.: 34.55\n",
      "Ep.:  94   Ep.T.A.Score: 33.10\tEp.Mean.S.: 37.24\tEp.Min.S.: 33.66\tEp.Max.S.: 39.37\tEp.Du.Sec.: 34.37\n",
      "Ep.:  95   Ep.T.A.Score: 33.14\tEp.Mean.S.: 36.26\tEp.Min.S.: 30.37\tEp.Max.S.: 39.64\tEp.Du.Sec.: 34.52\n",
      "Ep.:  96   Ep.T.A.Score: 33.17\tEp.Mean.S.: 35.96\tEp.Min.S.: 27.25\tEp.Max.S.: 39.56\tEp.Du.Sec.: 34.45\n",
      "Ep.:  97   Ep.T.A.Score: 33.19\tEp.Mean.S.: 35.35\tEp.Min.S.: 25.25\tEp.Max.S.: 39.49\tEp.Du.Sec.: 34.57\n",
      "Ep.:  98   Ep.T.A.Score: 33.20\tEp.Mean.S.: 34.84\tEp.Min.S.: 22.90\tEp.Max.S.: 38.67\tEp.Du.Sec.: 34.74\n",
      "Ep.:  99   Ep.T.A.Score: 33.25\tEp.Mean.S.: 37.21\tEp.Min.S.: 30.44\tEp.Max.S.: 39.49\tEp.Du.Sec.: 34.54\n",
      "Ep.: 100   Ep.T.A.Score: 33.28\tEp.Mean.S.: 36.94\tEp.Min.S.: 27.63\tEp.Max.S.: 39.58\tEp.Du.Sec.: 34.67\n",
      "Ep.: 101   Ep.T.A.Score: 33.65\tEp.Mean.S.: 37.97\tEp.Min.S.: 34.37\tEp.Max.S.: 39.52\tEp.Du.Sec.: 34.59\n",
      "Ep.: 102   Ep.T.A.Score: 34.02\tEp.Mean.S.: 37.39\tEp.Min.S.: 27.37\tEp.Max.S.: 39.56\tEp.Du.Sec.: 34.54\n",
      "Ep.: 103   Ep.T.A.Score: 34.38\tEp.Mean.S.: 36.62\tEp.Min.S.: 29.95\tEp.Max.S.: 39.55\tEp.Du.Sec.: 35.20\n",
      "Ep.: 104   Ep.T.A.Score: 34.75\tEp.Mean.S.: 37.78\tEp.Min.S.: 34.12\tEp.Max.S.: 39.27\tEp.Du.Sec.: 35.71\n",
      "Ep.: 105   Ep.T.A.Score: 35.10\tEp.Mean.S.: 36.35\tEp.Min.S.: 29.63\tEp.Max.S.: 39.23\tEp.Du.Sec.: 34.22\n",
      "Ep.: 106   Ep.T.A.Score: 35.45\tEp.Mean.S.: 35.66\tEp.Min.S.: 30.64\tEp.Max.S.: 39.13\tEp.Du.Sec.: 34.09\n",
      "Ep.: 107   Ep.T.A.Score: 35.81\tEp.Mean.S.: 36.23\tEp.Min.S.: 31.31\tEp.Max.S.: 39.26\tEp.Du.Sec.: 34.15\n",
      "Ep.: 108   Ep.T.A.Score: 36.16\tEp.Mean.S.: 36.54\tEp.Min.S.: 33.05\tEp.Max.S.: 38.67\tEp.Du.Sec.: 34.20\n",
      "Ep.: 109   Ep.T.A.Score: 36.49\tEp.Mean.S.: 34.41\tEp.Min.S.: 25.52\tEp.Max.S.: 39.20\tEp.Du.Sec.: 34.11\n",
      "Ep.: 110   Ep.T.A.Score: 36.79\tEp.Mean.S.: 32.73\tEp.Min.S.: 23.79\tEp.Max.S.: 36.57\tEp.Du.Sec.: 34.16\n",
      "Ep.: 111   Ep.T.A.Score: 37.10\tEp.Mean.S.: 33.42\tEp.Min.S.: 24.67\tEp.Max.S.: 38.86\tEp.Du.Sec.: 34.18\n",
      "Ep.: 112   Ep.T.A.Score: 37.37\tEp.Mean.S.: 33.57\tEp.Min.S.: 25.24\tEp.Max.S.: 38.49\tEp.Du.Sec.: 34.17\n",
      "Ep.: 113   Ep.T.A.Score: 37.60\tEp.Mean.S.: 33.70\tEp.Min.S.: 25.07\tEp.Max.S.: 38.29\tEp.Du.Sec.: 34.07\n",
      "Ep.: 114   Ep.T.A.Score: 37.75\tEp.Mean.S.: 33.26\tEp.Min.S.: 24.26\tEp.Max.S.: 38.35\tEp.Du.Sec.: 34.95\n",
      "Ep.: 115   Ep.T.A.Score: 37.84\tEp.Mean.S.: 33.61\tEp.Min.S.: 29.78\tEp.Max.S.: 37.75\tEp.Du.Sec.: 34.15\n",
      "Ep.: 116   Ep.T.A.Score: 37.83\tEp.Mean.S.: 32.73\tEp.Min.S.: 27.91\tEp.Max.S.: 35.64\tEp.Du.Sec.: 34.15\n",
      "Ep.: 117   Ep.T.A.Score: 37.83\tEp.Mean.S.: 35.04\tEp.Min.S.: 32.60\tEp.Max.S.: 37.28\tEp.Du.Sec.: 34.15\n",
      "Ep.: 118   Ep.T.A.Score: 37.79\tEp.Mean.S.: 33.57\tEp.Min.S.: 30.06\tEp.Max.S.: 36.70\tEp.Du.Sec.: 34.18\n",
      "Ep.: 119   Ep.T.A.Score: 37.76\tEp.Mean.S.: 33.76\tEp.Min.S.: 28.61\tEp.Max.S.: 36.58\tEp.Du.Sec.: 35.36\n",
      "Ep.: 120   Ep.T.A.Score: 37.71\tEp.Mean.S.: 33.02\tEp.Min.S.: 29.59\tEp.Max.S.: 36.28\tEp.Du.Sec.: 34.18\n",
      "Ep.: 121   Ep.T.A.Score: 37.68\tEp.Mean.S.: 34.32\tEp.Min.S.: 30.26\tEp.Max.S.: 37.03\tEp.Du.Sec.: 34.23\n",
      "Ep.: 122   Ep.T.A.Score: 37.64\tEp.Mean.S.: 34.22\tEp.Min.S.: 31.66\tEp.Max.S.: 37.47\tEp.Du.Sec.: 34.17\n",
      "Ep.: 123   Ep.T.A.Score: 37.58\tEp.Mean.S.: 32.62\tEp.Min.S.: 27.61\tEp.Max.S.: 36.04\tEp.Du.Sec.: 34.14\n",
      "Ep.: 124   Ep.T.A.Score: 37.51\tEp.Mean.S.: 31.55\tEp.Min.S.: 26.49\tEp.Max.S.: 35.05\tEp.Du.Sec.: 34.31\n",
      "Ep.: 125   Ep.T.A.Score: 37.44\tEp.Mean.S.: 31.73\tEp.Min.S.: 26.59\tEp.Max.S.: 35.85\tEp.Du.Sec.: 34.13\n",
      "Ep.: 126   Ep.T.A.Score: 37.36\tEp.Mean.S.: 30.42\tEp.Min.S.: 24.08\tEp.Max.S.: 35.83\tEp.Du.Sec.: 34.07\n",
      "Ep.: 127   Ep.T.A.Score: 37.31\tEp.Mean.S.: 33.39\tEp.Min.S.: 29.32\tEp.Max.S.: 37.63\tEp.Du.Sec.: 34.14\n",
      "Ep.: 128   Ep.T.A.Score: 37.25\tEp.Mean.S.: 32.33\tEp.Min.S.: 25.59\tEp.Max.S.: 37.19\tEp.Du.Sec.: 34.18\n",
      "Ep.: 129   Ep.T.A.Score: 37.21\tEp.Mean.S.: 33.38\tEp.Min.S.: 25.68\tEp.Max.S.: 37.18\tEp.Du.Sec.: 34.16\n",
      "Ep.: 130   Ep.T.A.Score: 37.15\tEp.Mean.S.: 32.44\tEp.Min.S.: 26.45\tEp.Max.S.: 36.71\tEp.Du.Sec.: 34.18\n",
      "Ep.: 131   Ep.T.A.Score: 37.09\tEp.Mean.S.: 32.80\tEp.Min.S.: 25.02\tEp.Max.S.: 38.86\tEp.Du.Sec.: 34.14\n",
      "Ep.: 132   Ep.T.A.Score: 37.03\tEp.Mean.S.: 32.49\tEp.Min.S.: 27.86\tEp.Max.S.: 36.14\tEp.Du.Sec.: 34.14\n",
      "Ep.: 133   Ep.T.A.Score: 36.97\tEp.Mean.S.: 32.49\tEp.Min.S.: 27.41\tEp.Max.S.: 36.17\tEp.Du.Sec.: 34.20\n",
      "Ep.: 134   Ep.T.A.Score: 36.91\tEp.Mean.S.: 32.36\tEp.Min.S.: 26.82\tEp.Max.S.: 36.49\tEp.Du.Sec.: 34.06\n",
      "Ep.: 135   Ep.T.A.Score: 36.84\tEp.Mean.S.: 31.09\tEp.Min.S.: 25.72\tEp.Max.S.: 36.69\tEp.Du.Sec.: 34.18\n",
      "Ep.: 136   Ep.T.A.Score: 36.78\tEp.Mean.S.: 31.37\tEp.Min.S.: 24.85\tEp.Max.S.: 38.06\tEp.Du.Sec.: 34.01\n",
      "Ep.: 137   Ep.T.A.Score: 36.70\tEp.Mean.S.: 30.71\tEp.Min.S.: 22.67\tEp.Max.S.: 34.74\tEp.Du.Sec.: 34.12\n",
      "Ep.: 138   Ep.T.A.Score: 36.64\tEp.Mean.S.: 30.94\tEp.Min.S.: 26.17\tEp.Max.S.: 34.39\tEp.Du.Sec.: 34.17\n",
      "Ep.: 139   Ep.T.A.Score: 36.58\tEp.Mean.S.: 30.92\tEp.Min.S.: 26.62\tEp.Max.S.: 34.39\tEp.Du.Sec.: 34.19\n",
      "Ep.: 140   Ep.T.A.Score: 36.50\tEp.Mean.S.: 31.06\tEp.Min.S.: 21.13\tEp.Max.S.: 36.75\tEp.Du.Sec.: 34.18\n",
      "Ep.: 141   Ep.T.A.Score: 36.43\tEp.Mean.S.: 31.49\tEp.Min.S.: 24.80\tEp.Max.S.: 35.01\tEp.Du.Sec.: 34.28\n",
      "Ep.: 142   Ep.T.A.Score: 36.35\tEp.Mean.S.: 30.24\tEp.Min.S.: 22.02\tEp.Max.S.: 35.42\tEp.Du.Sec.: 34.21\n",
      "Ep.: 143   Ep.T.A.Score: 36.28\tEp.Mean.S.: 31.33\tEp.Min.S.: 23.58\tEp.Max.S.: 34.45\tEp.Du.Sec.: 34.07\n",
      "Ep.: 144   Ep.T.A.Score: 36.20\tEp.Mean.S.: 30.07\tEp.Min.S.: 23.43\tEp.Max.S.: 38.27\tEp.Du.Sec.: 34.11\n",
      "Ep.: 145   Ep.T.A.Score: 36.10\tEp.Mean.S.: 29.06\tEp.Min.S.: 21.01\tEp.Max.S.: 34.49\tEp.Du.Sec.: 34.34\n",
      "Ep.: 146   Ep.T.A.Score: 36.01\tEp.Mean.S.: 29.50\tEp.Min.S.: 24.25\tEp.Max.S.: 34.56\tEp.Du.Sec.: 34.13\n",
      "Ep.: 147   Ep.T.A.Score: 35.91\tEp.Mean.S.: 29.52\tEp.Min.S.: 24.46\tEp.Max.S.: 35.43\tEp.Du.Sec.: 34.09\n",
      "Ep.: 148   Ep.T.A.Score: 35.82\tEp.Mean.S.: 30.14\tEp.Min.S.: 24.46\tEp.Max.S.: 33.97\tEp.Du.Sec.: 34.13\n",
      "Ep.: 149   Ep.T.A.Score: 35.73\tEp.Mean.S.: 30.24\tEp.Min.S.: 22.76\tEp.Max.S.: 37.49\tEp.Du.Sec.: 34.25\n",
      "Ep.: 150   Ep.T.A.Score: 35.64\tEp.Mean.S.: 30.10\tEp.Min.S.: 25.57\tEp.Max.S.: 36.40\tEp.Du.Sec.: 34.32\n",
      "Ep.: 151   Ep.T.A.Score: 35.53\tEp.Mean.S.: 29.16\tEp.Min.S.: 22.96\tEp.Max.S.: 36.99\tEp.Du.Sec.: 34.18\n",
      "Ep.: 152   Ep.T.A.Score: 35.42\tEp.Mean.S.: 27.69\tEp.Min.S.: 20.27\tEp.Max.S.: 32.85\tEp.Du.Sec.: 34.12\n",
      "Ep.: 153   Ep.T.A.Score: 35.29\tEp.Mean.S.: 27.04\tEp.Min.S.: 20.81\tEp.Max.S.: 33.83\tEp.Du.Sec.: 34.18\n",
      "Ep.: 154   Ep.T.A.Score: 35.18\tEp.Mean.S.: 28.55\tEp.Min.S.: 22.71\tEp.Max.S.: 33.34\tEp.Du.Sec.: 34.02\n",
      "Ep.: 155   Ep.T.A.Score: 35.07\tEp.Mean.S.: 28.37\tEp.Min.S.: 24.38\tEp.Max.S.: 34.76\tEp.Du.Sec.: 34.14\n",
      "Ep.: 156   Ep.T.A.Score: 34.96\tEp.Mean.S.: 28.02\tEp.Min.S.: 24.30\tEp.Max.S.: 31.85\tEp.Du.Sec.: 34.10\n",
      "Ep.: 157   Ep.T.A.Score: 34.85\tEp.Mean.S.: 29.26\tEp.Min.S.: 22.53\tEp.Max.S.: 33.52\tEp.Du.Sec.: 34.11\n",
      "Ep.: 158   Ep.T.A.Score: 34.76\tEp.Mean.S.: 29.59\tEp.Min.S.: 25.33\tEp.Max.S.: 34.10\tEp.Du.Sec.: 34.16\n",
      "Ep.: 159   Ep.T.A.Score: 34.66\tEp.Mean.S.: 29.42\tEp.Min.S.: 25.48\tEp.Max.S.: 33.48\tEp.Du.Sec.: 34.21\n",
      "Ep.: 160   Ep.T.A.Score: 34.56\tEp.Mean.S.: 30.03\tEp.Min.S.: 24.51\tEp.Max.S.: 34.63\tEp.Du.Sec.: 34.18\n",
      "Ep.: 161   Ep.T.A.Score: 34.47\tEp.Mean.S.: 30.15\tEp.Min.S.: 22.05\tEp.Max.S.: 35.16\tEp.Du.Sec.: 34.17\n"
     ]
    },
    {
     "name": "stdout",
     "output_type": "stream",
     "text": [
      "Ep.: 162   Ep.T.A.Score: 34.38\tEp.Mean.S.: 30.02\tEp.Min.S.: 22.19\tEp.Max.S.: 34.29\tEp.Du.Sec.: 34.15\n",
      "Ep.: 163   Ep.T.A.Score: 34.30\tEp.Mean.S.: 30.71\tEp.Min.S.: 25.32\tEp.Max.S.: 35.69\tEp.Du.Sec.: 34.19\n",
      "Ep.: 164   Ep.T.A.Score: 34.24\tEp.Mean.S.: 32.06\tEp.Min.S.: 23.51\tEp.Max.S.: 35.84\tEp.Du.Sec.: 33.97\n",
      "Ep.: 165   Ep.T.A.Score: 34.16\tEp.Mean.S.: 31.13\tEp.Min.S.: 26.92\tEp.Max.S.: 34.81\tEp.Du.Sec.: 34.14\n",
      "Ep.: 166   Ep.T.A.Score: 34.08\tEp.Mean.S.: 30.93\tEp.Min.S.: 21.63\tEp.Max.S.: 35.43\tEp.Du.Sec.: 34.03\n",
      "Ep.: 167   Ep.T.A.Score: 34.01\tEp.Mean.S.: 29.90\tEp.Min.S.: 24.01\tEp.Max.S.: 33.52\tEp.Du.Sec.: 34.79\n",
      "Ep.: 168   Ep.T.A.Score: 33.92\tEp.Mean.S.: 30.17\tEp.Min.S.: 22.95\tEp.Max.S.: 35.19\tEp.Du.Sec.: 34.19\n",
      "Ep.: 169   Ep.T.A.Score: 33.83\tEp.Mean.S.: 30.17\tEp.Min.S.: 23.41\tEp.Max.S.: 35.85\tEp.Du.Sec.: 34.16\n",
      "Ep.: 170   Ep.T.A.Score: 33.74\tEp.Mean.S.: 30.37\tEp.Min.S.: 24.26\tEp.Max.S.: 34.92\tEp.Du.Sec.: 34.22\n",
      "Ep.: 171   Ep.T.A.Score: 33.64\tEp.Mean.S.: 29.93\tEp.Min.S.: 27.10\tEp.Max.S.: 32.27\tEp.Du.Sec.: 34.11\n",
      "Ep.: 172   Ep.T.A.Score: 33.57\tEp.Mean.S.: 31.56\tEp.Min.S.: 25.78\tEp.Max.S.: 34.67\tEp.Du.Sec.: 34.07\n",
      "Ep.: 173   Ep.T.A.Score: 33.47\tEp.Mean.S.: 29.37\tEp.Min.S.: 23.24\tEp.Max.S.: 33.76\tEp.Du.Sec.: 34.13\n",
      "Ep.: 174   Ep.T.A.Score: 33.37\tEp.Mean.S.: 29.21\tEp.Min.S.: 24.15\tEp.Max.S.: 33.25\tEp.Du.Sec.: 34.07\n",
      "Ep.: 175   Ep.T.A.Score: 33.28\tEp.Mean.S.: 29.72\tEp.Min.S.: 23.96\tEp.Max.S.: 34.22\tEp.Du.Sec.: 34.14\n",
      "Ep.: 176   Ep.T.A.Score: 33.21\tEp.Mean.S.: 30.65\tEp.Min.S.: 25.35\tEp.Max.S.: 33.68\tEp.Du.Sec.: 34.15\n",
      "Ep.: 177   Ep.T.A.Score: 33.13\tEp.Mean.S.: 30.80\tEp.Min.S.: 24.17\tEp.Max.S.: 35.96\tEp.Du.Sec.: 34.17\n",
      "Ep.: 178   Ep.T.A.Score: 33.04\tEp.Mean.S.: 29.85\tEp.Min.S.: 23.42\tEp.Max.S.: 34.12\tEp.Du.Sec.: 34.15\n",
      "Ep.: 179   Ep.T.A.Score: 32.96\tEp.Mean.S.: 30.78\tEp.Min.S.: 27.41\tEp.Max.S.: 34.60\tEp.Du.Sec.: 34.18\n",
      "Ep.: 180   Ep.T.A.Score: 32.86\tEp.Mean.S.: 28.14\tEp.Min.S.: 15.90\tEp.Max.S.: 33.16\tEp.Du.Sec.: 34.15\n",
      "Ep.: 181   Ep.T.A.Score: 32.76\tEp.Mean.S.: 28.61\tEp.Min.S.: 21.15\tEp.Max.S.: 35.70\tEp.Du.Sec.: 34.15\n",
      "Ep.: 182   Ep.T.A.Score: 32.67\tEp.Mean.S.: 29.53\tEp.Min.S.: 23.76\tEp.Max.S.: 34.12\tEp.Du.Sec.: 34.12\n",
      "Ep.: 183   Ep.T.A.Score: 32.58\tEp.Mean.S.: 28.40\tEp.Min.S.: 21.46\tEp.Max.S.: 33.31\tEp.Du.Sec.: 34.12\n",
      "Ep.: 184   Ep.T.A.Score: 32.48\tEp.Mean.S.: 29.10\tEp.Min.S.: 21.12\tEp.Max.S.: 34.94\tEp.Du.Sec.: 34.13\n",
      "Ep.: 185   Ep.T.A.Score: 32.40\tEp.Mean.S.: 30.05\tEp.Min.S.: 24.71\tEp.Max.S.: 34.12\tEp.Du.Sec.: 34.19\n",
      "Ep.: 186   Ep.T.A.Score: 32.32\tEp.Mean.S.: 30.27\tEp.Min.S.: 24.29\tEp.Max.S.: 37.31\tEp.Du.Sec.: 34.03\n",
      "Ep.: 187   Ep.T.A.Score: 32.22\tEp.Mean.S.: 28.63\tEp.Min.S.: 23.95\tEp.Max.S.: 35.17\tEp.Du.Sec.: 34.20\n",
      "Ep.: 188   Ep.T.A.Score: 32.12\tEp.Mean.S.: 29.31\tEp.Min.S.: 20.05\tEp.Max.S.: 36.90\tEp.Du.Sec.: 34.16\n",
      "Ep.: 189   Ep.T.A.Score: 32.02\tEp.Mean.S.: 28.33\tEp.Min.S.: 19.23\tEp.Max.S.: 35.22\tEp.Du.Sec.: 34.16\n",
      "Ep.: 190   Ep.T.A.Score: 31.93\tEp.Mean.S.: 29.36\tEp.Min.S.: 22.05\tEp.Max.S.: 34.69\tEp.Du.Sec.: 34.19\n",
      "Ep.: 191   Ep.T.A.Score: 31.86\tEp.Mean.S.: 31.12\tEp.Min.S.: 23.64\tEp.Max.S.: 36.29\tEp.Du.Sec.: 34.24\n",
      "Ep.: 192   Ep.T.A.Score: 31.80\tEp.Mean.S.: 30.69\tEp.Min.S.: 19.48\tEp.Max.S.: 36.59\tEp.Du.Sec.: 34.17\n",
      "Ep.: 193   Ep.T.A.Score: 31.72\tEp.Mean.S.: 29.91\tEp.Min.S.: 24.72\tEp.Max.S.: 34.73\tEp.Du.Sec.: 34.18\n",
      "Ep.: 194   Ep.T.A.Score: 31.65\tEp.Mean.S.: 30.47\tEp.Min.S.: 24.58\tEp.Max.S.: 35.96\tEp.Du.Sec.: 34.22\n",
      "Ep.: 195   Ep.T.A.Score: 31.59\tEp.Mean.S.: 30.10\tEp.Min.S.: 26.78\tEp.Max.S.: 36.04\tEp.Du.Sec.: 34.30\n",
      "Ep.: 196   Ep.T.A.Score: 31.53\tEp.Mean.S.: 30.05\tEp.Min.S.: 23.97\tEp.Max.S.: 34.31\tEp.Du.Sec.: 34.14\n",
      "Ep.: 197   Ep.T.A.Score: 31.46\tEp.Mean.S.: 28.40\tEp.Min.S.: 19.57\tEp.Max.S.: 32.47\tEp.Du.Sec.: 34.37\n",
      "Ep.: 198   Ep.T.A.Score: 31.39\tEp.Mean.S.: 27.96\tEp.Min.S.: 22.09\tEp.Max.S.: 31.32\tEp.Du.Sec.: 34.11\n",
      "Ep.: 199   Ep.T.A.Score: 31.30\tEp.Mean.S.: 28.34\tEp.Min.S.: 24.45\tEp.Max.S.: 32.90\tEp.Du.Sec.: 34.12\n",
      "Ep.: 200   Ep.T.A.Score: 31.22\tEp.Mean.S.: 28.86\tEp.Min.S.: 24.57\tEp.Max.S.: 32.25\tEp.Du.Sec.: 34.16\n",
      "Environment solved in 60 episodes!\tAverage Score: 30.02\n"
     ]
    }
   ],
   "source": [
    "# training code cell\n",
    "def ddpg(n_episodes=200, max_t=1000):\n",
    "    \"\"\"Deep Q-Learning.\n",
    "    Params\n",
    "    ======\n",
    "        n_episodes (int): maximum number of training episodes\n",
    "        max_t (int): maximum number of timesteps per episode\n",
    "    \"\"\"\n",
    "    agent_score   = np.zeros(num_agents) # initialize the score (for each agent)\n",
    "    episode_score = []                   # list containing scores from each episode\n",
    "    scores_window = deque(maxlen=100)    # last 100 scores\n",
    "    episode_scores_window_mean = []      # list containing mean scores over the last 100 episodes in the scores window\n",
    "    i_episode_solved = 0                 # episodes solved environment\n",
    "    scores_window_solved = scores_window # last 100 scores\n",
    "    \n",
    "    for i_episode in range(1, n_episodes+1):\n",
    "        env_info = env.reset(train_mode=True)[brain_name]  # reset the environment and set in training mode\n",
    "        agent.reset()\n",
    "        state = env_info.vector_observations    # get the next state\n",
    "        agent_score   = np.zeros(num_agents)    # set score (for each agent)\n",
    "        episode_start_time = time()             # episode duration start\n",
    "        \n",
    "        for t in range(max_t):\n",
    "            #sleep(0.1)                                 # for debugging and video recording\n",
    "            action = [agent.act(np.expand_dims(state[i],axis=0)) for i in range(20)] # get action from 20 agents\n",
    "            \n",
    "            env_info = env.step(action)[brain_name]     # send the action to the environment\n",
    "            next_state = env_info.vector_observations   # get the next state\n",
    "            reward = env_info.rewards                   # get the reward\n",
    "            done = env_info.local_done                  # see if episode has finished\n",
    "\n",
    "            [agent.save_experience(state, action, reward, next_state, done) for i, (state, action, reward, next_state, done) in enumerate(zip(state, action, reward, next_state, done))] # store experience in memory\n",
    "            agent.step() # perform learning\n",
    "\n",
    "            state = next_state    # copy next state as current state\n",
    "            agent_score += reward # sum rewards score into agents score\n",
    "\n",
    "            if np.any(done): # check if episode is done\n",
    "                break \n",
    "\n",
    "        # calculate the statistics for agents performance\n",
    "        episode_duration = time() - episode_start_time\n",
    "        \n",
    "        agent_score_min  = np.min(agent_score)\n",
    "        agent_score_mean = np.mean(agent_score)\n",
    "        agent_score_max  = np.max(agent_score)\n",
    "        \n",
    "        scores_window.append(agent_score_mean)\n",
    "        episode_score.append(agent_score_mean)\n",
    "        \n",
    "        scores_window_mean = np.mean(scores_window)\n",
    "        \n",
    "        episode_scores_window_mean.append(scores_window_mean)\n",
    "        \n",
    "        if i_episode % 1 == 0:\n",
    "            # Ep.          = Episode number\n",
    "            # Ep.T.A.Score = Episode total average score\n",
    "            # Ep.Mean.S.   = Episode mean score\n",
    "            # Ep.Min.S.    = Episode minimum score\n",
    "            # Ep.Max.S.    = Episode maximum score\n",
    "            # Ep.Du.Sec.   = Episode duration in seconds\n",
    "            print('\\nEp.: {:3.0f}   Ep.T.A.Score: {:5.2f}\\tEp.Mean.S.: {:5.2f}\\tEp.Min.S.: {:5.2f}\\tEp.Max.S.: {:5.2f}\\tEp.Du.Sec.: {:.2f}'\n",
    "                  .format(i_episode,scores_window_mean,agent_score_mean,agent_score_min,agent_score_max,episode_duration), end=\"\")\n",
    "        if scores_window_mean>= 30 and i_episode_solved == 0: # check if the score for solving the environment has been exceeded\n",
    "                i_episode_solved     = i_episode\n",
    "                scores_window_solved = scores_window_mean\n",
    "                print('\\nEnvironment solved in {:d} episodes!\\tAverage Score: {:.2f}'.format(i_episode_solved, scores_window_solved))\n",
    "                torch.save(agent.actor_local.state_dict(), './model_weights/agent_actor_local_checkpoint_solved.pth') # save actor weights after environment has been solved\n",
    "                torch.save(agent.critic_local.state_dict(), './model_weights/agent_critic_local_checkpoint_solved.pth') # save critic weights after environment has been solved\n",
    "        \n",
    "    print('\\nEnvironment solved in {:d} episodes!\\tAverage Score: {:.2f}'.format(i_episode_solved, scores_window_solved))\n",
    "    torch.save(agent.actor_local.state_dict(), './model_weights/agent_actor_local_checkpoint_training_finished.pth') # save actor weights after defined steps\n",
    "    torch.save(agent.critic_local.state_dict(), './model_weights/agent_critic_local_checkpoint_training_finished.pth') # save critic weights after defined steps\n",
    "\n",
    "    return (episode_score, episode_scores_window_mean)\n",
    "\n",
    "episode_score, episode_scores_window_mean = ddpg()"
   ]
  },
  {
   "cell_type": "markdown",
   "metadata": {},
   "source": [
    "<hr>"
   ]
  },
  {
   "cell_type": "markdown",
   "metadata": {},
   "source": [
    "# Plotting the training reward scores\n",
    "The following code cell plot the score of the trained agent in blue, as well the average score in red and the target score in green."
   ]
  },
  {
   "cell_type": "code",
   "execution_count": 10,
   "metadata": {
    "ExecuteTime": {
     "end_time": "2019-03-02T03:19:14.368499Z",
     "start_time": "2019-03-02T03:19:13.579970Z"
    },
    "scrolled": false
   },
   "outputs": [
    {
     "data": {
      "image/png": "[encoded data removed]",
      "text/plain": [
       "<Figure size 1080x360 with 1 Axes>"
      ]
     },
     "metadata": {
      "needs_background": "light"
     },
     "output_type": "display_data"
    }
   ],
   "source": [
    "# prepare the plot and plot the score of the trained agent in blue, \n",
    "# as well the average score in red and the target score in green.\n",
    "fig = plt.figure(figsize=(15,5))\n",
    "ax = fig.add_subplot(111)\n",
    "# plot the score of the trained agent in blue\n",
    "plt.plot(1+np.arange(len(np.squeeze(episode_score))), np.squeeze(episode_score), color='b', alpha=0.5, label='Episode Score')\n",
    "# plot the average score of the trained agent in red\n",
    "plt.plot(1+np.arange(len(np.squeeze(episode_scores_window_mean))), episode_scores_window_mean, color='r', alpha=0.7, label='Episode Average Score')\n",
    "# plot the target score in green\n",
    "ax.axhline(y=30, xmin=0.0, xmax=1.0, color='g', label=\"Target\")\n",
    "plt.ylabel('Score')\n",
    "plt.xlabel('Episode #')\n",
    "plt.title('Training Reward Score')\n",
    "plt.grid(True)\n",
    "plt.legend(loc=0)\n",
    "plt.show()"
   ]
  },
  {
   "cell_type": "markdown",
   "metadata": {},
   "source": [
    "<hr>"
   ]
  },
  {
   "cell_type": "markdown",
   "metadata": {},
   "source": [
    "# Testing a trained agent and print the score as well plot the reward scores"
   ]
  },
  {
   "cell_type": "markdown",
   "metadata": {},
   "source": [
    "**Example Video of trained agent.**  \n",
    "After the following code cell is executed the vido can be started via the play button."
   ]
  },
  {
   "cell_type": "code",
   "execution_count": 11,
   "metadata": {
    "ExecuteTime": {
     "end_time": "2019-03-02T03:19:14.817296Z",
     "start_time": "2019-03-02T03:19:14.370525Z"
    }
   },
   "outputs": [
    {
     "data": {
      "text/html": [
       "<div align=\"middle\"><video width=\"80%\" height=\"\" controls><source src=\"media/03_p2_r_trained.mp4\" type=\"video/mp4\"></video></div>"
      ],
      "text/plain": [
       "<IPython.core.display.HTML object>"
      ]
     },
     "execution_count": 11,
     "metadata": {},
     "output_type": "execute_result"
    }
   ],
   "source": [
    "HTML(\"\"\"<div align=\"middle\"><video width=\"80%\" height=\"\" controls><source src=\"media/03_p2_r_trained.mp4\" type=\"video/mp4\"></video></div>\"\"\")"
   ]
  },
  {
   "cell_type": "markdown",
   "metadata": {
    "ExecuteTime": {
     "end_time": "2018-12-28T00:42:25.806251Z",
     "start_time": "2018-12-28T00:41:55.873159Z"
    }
   },
   "source": [
    "<div style=\"text-align: justify\">\n",
    "The following code cell test the trained agent in the environment.\n",
    "The code loads the trained model weights from the folder \"./model_weights/\" into the agent model and the agents double-jointed arm move to target location and stays within the target location as good as possible until the end of the episode. Once the episodes has been finished the cell print the score of the episode and plot the associated reward score diagram.\n",
    "</div>"
   ]
  },
  {
   "cell_type": "code",
   "execution_count": 12,
   "metadata": {
    "ExecuteTime": {
     "end_time": "2019-03-02T03:19:15.300147Z",
     "start_time": "2019-03-02T03:19:14.819291Z"
    }
   },
   "outputs": [],
   "source": [
    "# load the model weights from file\n",
    "agent.actor_local.load_state_dict(torch.load('./model_weights/agent_actor_local_checkpoint_solved.pth'))\n",
    "agent.critic_local.load_state_dict(torch.load('./model_weights/agent_critic_local_checkpoint_solved.pth'))"
   ]
  },
  {
   "cell_type": "code",
   "execution_count": 13,
   "metadata": {
    "ExecuteTime": {
     "end_time": "2019-03-02T03:32:52.535503Z",
     "start_time": "2019-03-02T03:19:15.301174Z"
    }
   },
   "outputs": [],
   "source": [
    "episode_score = []                                     # list containing scores from each episode\n",
    "\n",
    "for j in range(5):                                     # specify the number of episodes\n",
    "    env_info = env.reset(train_mode=False)[brain_name] # reset the environment\n",
    "    state  = env_info.vector_observations              # get the current state\n",
    "    score  = np.zeros(num_agents)                      # initialize the score\n",
    "\n",
    "    for t in range(1000):\n",
    "        #sleep(0.1)                                    # optional to reduce the speed of the agent\n",
    "        action = [agent.act(np.expand_dims(state[i],axis=0)) for i in range(20)] # get action from 20 agents\n",
    "        \n",
    "        env_info = env.step(action)[brain_name]        # send the action to the environment\n",
    "        next_state = env_info.vector_observations      # get the next state\n",
    "        reward = env_info.rewards                      # get the reward\n",
    "        done = env_info.local_done                     # see if episode has finished\n",
    "        \n",
    "        score += reward                                # update the score\n",
    "        \n",
    "        state = next_state                             # roll over the state to next time step\n",
    "        if np.any(done):                               # exit loop if episode finished\n",
    "            break             \n",
    "    episode_score.append(np.mean(score))               # collect the score"
   ]
  },
  {
   "cell_type": "code",
   "execution_count": 14,
   "metadata": {
    "ExecuteTime": {
     "end_time": "2019-03-02T03:32:53.273495Z",
     "start_time": "2019-03-02T03:32:52.540459Z"
    }
   },
   "outputs": [
    {
     "name": "stdout",
     "output_type": "stream",
     "text": [
      "Score of 20 trained agents: [39.435999118536714, 39.31399912126362, 39.491499117296186, 39.48849911736325, 39.49549911720678]\n"
     ]
    },
    {
     "data": {
      "image/png": "[encoded data removed]",
      "text/plain": [
       "<Figure size 1080x216 with 1 Axes>"
      ]
     },
     "metadata": {
      "needs_background": "light"
     },
     "output_type": "display_data"
    }
   ],
   "source": [
    "# Plot and print the achived scores during this episode\n",
    "print(\"Score of 20 trained agents: {}\".format(episode_score))\n",
    "fig = plt.figure(figsize=(15,3))\n",
    "ax = fig.add_subplot(111)\n",
    "plt.plot(1+np.arange(len(episode_score)), episode_score)\n",
    "plt.ylabel('Score')\n",
    "plt.xlabel('Episode #')\n",
    "plt.grid(True)\n",
    "plt.show()"
   ]
  },
  {
   "cell_type": "markdown",
   "metadata": {},
   "source": [
    "# Close the environment\n",
    "Close the environment after the training and testing phase."
   ]
  },
  {
   "cell_type": "code",
   "execution_count": 15,
   "metadata": {
    "ExecuteTime": {
     "end_time": "2019-03-02T03:32:53.726296Z",
     "start_time": "2019-03-02T03:32:53.275489Z"
    }
   },
   "outputs": [],
   "source": [
    "env.close()"
   ]
  },
  {
   "cell_type": "markdown",
   "metadata": {},
   "source": [
    "<hr>"
   ]
  }
 ],
 "metadata": {
  "kernelspec": {
   "display_name": "drlnd",
   "language": "python",
   "name": "drlnd"
  },
  "language_info": {
   "codemirror_mode": {
    "name": "ipython",
    "version": 3
   },
   "file_extension": ".py",
   "mimetype": "text/x-python",
   "name": "python",
   "nbconvert_exporter": "python",
   "pygments_lexer": "ipython3",
   "version": "3.6.6"
  },
  "toc": {
   "base_numbering": 1,
   "nav_menu": {},
   "number_sections": true,
   "sideBar": true,
   "skip_h1_title": false,
   "title_cell": "Table of Contents",
   "title_sidebar": "Contents",
   "toc_cell": false,
   "toc_position": {
    "height": "calc(100% - 180px)",
    "left": "10px",
    "top": "150px",
    "width": "263.423px"
   },
   "toc_section_display": true,
   "toc_window_display": true
  },
  "varInspector": {
   "cols": {
    "lenName": 16,
    "lenType": 16,
    "lenVar": 40
   },
   "kernels_config": {
    "python": {
     "delete_cmd_postfix": "",
     "delete_cmd_prefix": "del ",
     "library": "var_list.py",
     "varRefreshCmd": "print(var_dic_list())"
    },
    "r": {
     "delete_cmd_postfix": ") ",
     "delete_cmd_prefix": "rm(",
     "library": "var_list.r",
     "varRefreshCmd": "cat(var_dic_list()) "
    }
   },
   "types_to_exclude": [
    "module",
    "function",
    "builtin_function_or_method",
    "instance",
    "_Feature"
   ],
   "window_display": false
  }
 },
 "nbformat": 4,
 "nbformat_minor": 2
}
